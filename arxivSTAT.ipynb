{
  "cells": [
    {
      "cell_type": "markdown",
      "metadata": {
        "id": "i3jmvbHrIsMM"
      },
      "source": [
        "## Download arXiv dataset regarding Errors-in-Variables models"
      ]
    },
    {
      "cell_type": "code",
      "execution_count": 2,
      "metadata": {},
      "outputs": [],
      "source": [
        "import json\n",
        "import os\n",
        "\n",
        "import arxiv\n",
        "import feedparser\n",
        "import fitz\n",
        "import requests"
      ]
    },
    {
      "cell_type": "code",
      "execution_count": 34,
      "metadata": {
        "colab": {
          "base_uri": "https://localhost:8080/"
        },
        "id": "XHD4nnmUi9qI",
        "outputId": "7cafdc49-c1f2-4b94-e8ca-f846f3f5bb3f"
      },
      "outputs": [
        {
          "name": "stdout",
          "output_type": "stream",
          "text": [
            "Searching arXiv for: Errors-in-variables model\n",
            "Found 45 papers matching the exact phrase.\n",
            "Finished downloading PDFs\n"
          ]
        }
      ],
      "source": [
        "# Define the exact phrase to search\n",
        "exact_phrase = \"Errors-in-variables model\"\n",
        "output_directory = \"/data/arxiv_stat_pdfs\"  # Directory to save PDFs\n",
        "\n",
        "# Construct the query URL for exact matches\n",
        "query_url = f\"http://export.arxiv.org/api/query?search_query=all:%22errors+in+variables+model%22&max_results=50\"\n",
        "\n",
        "# Create the output directory if it doesn't exist\n",
        "os.makedirs(output_directory, exist_ok=True)\n",
        "\n",
        "# Fetch results from the arXiv API\n",
        "print(f\"Searching arXiv for: {exact_phrase}\")\n",
        "response = requests.get(query_url)\n",
        "if response.status_code != 200:\n",
        "    print(f\"Failed to fetch results: {response.status_code}\")\n",
        "    exit()\n",
        "\n",
        "# Parse the results\n",
        "feed = feedparser.parse(response.content)\n",
        "entries = feed.entries\n",
        "\n",
        "print(f\"Found {len(entries)} papers matching the exact phrase.\")\n",
        "\n",
        "# Download PDFs\n",
        "for entry in entries:\n",
        "    try:\n",
        "        title = entry.title\n",
        "        pdf_url = entry.links[1].href  # The second link is typically the PDF\n",
        "        pdf_path = os.path.join(output_directory, f\"{entry.id.split('/')[-1]}.pdf\")\n",
        "        pdf_response = requests.get(pdf_url)\n",
        "        with open(pdf_path, 'wb') as pdf_file:\n",
        "            pdf_file.write(pdf_response.content)\n",
        "\n",
        "    except Exception as e:\n",
        "        print(f\"Failed to download {title}: {e}\")\n",
        "\n",
        "# Print the number of PDFs downloaded\n",
        "print(\"Finished downloading PDFs\")\n"
      ]
    },
    {
      "cell_type": "markdown",
      "metadata": {
        "id": "XGToegbkIsMX"
      },
      "source": [
        "## Extract Text from PDFs"
      ]
    },
    {
      "cell_type": "markdown",
      "metadata": {
        "id": "pcBatJbnIsMY"
      },
      "source": [
        "extract text from the pdfs - should this be saved as a json or txt?\n",
        "also run on hpc this is a lot"
      ]
    },
    {
      "cell_type": "code",
      "execution_count": 35,
      "metadata": {
        "colab": {
          "base_uri": "https://localhost:8080/"
        },
        "id": "z8n7AdeRIsMY",
        "outputId": "e0143e14-f379-4f86-e283-6b3df1149a5f"
      },
      "outputs": [
        {
          "name": "stdout",
          "output_type": "stream",
          "text": [
            "Error processing 0903.3146v2.pdf: Failed to open file '/content/drive/MyDrive/deeplearning_project/arxiv_stat_pdfs/0903.3146v2.pdf'.\n",
            "Error processing 2105.09095v3.pdf: Failed to open file '/content/drive/MyDrive/deeplearning_project/arxiv_stat_pdfs/2105.09095v3.pdf'.\n",
            "Error processing 0812.3612v3.pdf: Failed to open file '/content/drive/MyDrive/deeplearning_project/arxiv_stat_pdfs/0812.3612v3.pdf'.\n",
            "Error processing 1608.05122v3.pdf: Failed to open file '/content/drive/MyDrive/deeplearning_project/arxiv_stat_pdfs/1608.05122v3.pdf'.\n",
            "Error processing 0706.0826v1.pdf: Failed to open file '/content/drive/MyDrive/deeplearning_project/arxiv_stat_pdfs/0706.0826v1.pdf'.\n",
            "Error processing 0709.0871v1.pdf: Failed to open file '/content/drive/MyDrive/deeplearning_project/arxiv_stat_pdfs/0709.0871v1.pdf'.\n",
            "Error processing 1604.01591v2.pdf: Failed to open file '/content/drive/MyDrive/deeplearning_project/arxiv_stat_pdfs/1604.01591v2.pdf'.\n",
            "Error processing 1911.06361v3.pdf: Failed to open file '/content/drive/MyDrive/deeplearning_project/arxiv_stat_pdfs/1911.06361v3.pdf'.\n",
            "Error processing 2006.14818v1.pdf: Failed to open file '/content/drive/MyDrive/deeplearning_project/arxiv_stat_pdfs/2006.14818v1.pdf'.\n",
            "Error processing 1008.2996v1.pdf: Failed to open file '/content/drive/MyDrive/deeplearning_project/arxiv_stat_pdfs/1008.2996v1.pdf'.\n",
            "Error processing 1806.06974v1.pdf: Failed to open file '/content/drive/MyDrive/deeplearning_project/arxiv_stat_pdfs/1806.06974v1.pdf'.\n",
            "Error processing 1609.08945v3.pdf: Failed to open file '/content/drive/MyDrive/deeplearning_project/arxiv_stat_pdfs/1609.08945v3.pdf'.\n",
            "Processed 33 papers\n"
          ]
        }
      ],
      "source": [
        "# Function to extract text from a PDF file\n",
        "def extract_text_from_pdf(pdf_path):\n",
        "    # Open the PDF file\n",
        "    doc = fitz.open(pdf_path)\n",
        "    text = \"\"\n",
        "\n",
        "    # Extract text from each page\n",
        "    for page_num in range(doc.page_count):\n",
        "        page = doc.load_page(page_num)\n",
        "        text += page.get_text()\n",
        "\n",
        "    return text\n",
        "\n",
        "# extract text from all pdfs and save each in a json file\n",
        "pdf_dir = \"/data/arxiv_stat_pdfs\"\n",
        "text_dir = \"/data/arxiv_stat_text\"\n",
        "os.makedirs(text_dir, exist_ok=True)\n",
        "\n",
        "text_count = 0\n",
        "\n",
        "for paper in os.listdir(pdf_dir):\n",
        "    try:\n",
        "        arxiv_id = paper\n",
        "        pdf_path = os.path.join(pdf_dir, f\"{arxiv_id}\")\n",
        "        text = extract_text_from_pdf(pdf_path)\n",
        "        text_path = os.path.join(text_dir, f\"{arxiv_id}.json\")\n",
        "        with open(text_path, \"w\") as f:\n",
        "            json.dump({\"text\": text}, f)\n",
        "        text_count += 1\n",
        "    except Exception as e:\n",
        "        print(f\"Error processing {arxiv_id}: {e}\")\n",
        "print(f\"Processed {text_count} papers\")"
      ]
    }
  ],
  "metadata": {
    "colab": {
      "collapsed_sections": [
        "w8fsvKyDIsMR"
      ],
      "provenance": []
    },
    "kernelspec": {
      "display_name": ".venv",
      "language": "python",
      "name": "python3"
    },
    "language_info": {
      "codemirror_mode": {
        "name": "ipython",
        "version": 3
      },
      "file_extension": ".py",
      "mimetype": "text/x-python",
      "name": "python",
      "nbconvert_exporter": "python",
      "pygments_lexer": "ipython3",
      "version": "3.9.6"
    }
  },
  "nbformat": 4,
  "nbformat_minor": 0
}
