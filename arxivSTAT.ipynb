{
  "cells": [
    {
      "cell_type": "code",
      "source": [
        "!pip install arxiv\n",
        "!pip install fitz\n",
        "!pip install pymupdf"
      ],
      "metadata": {
        "colab": {
          "base_uri": "https://localhost:8080/"
        },
        "id": "DZoDYwGu_kb8",
        "outputId": "8421c49b-6a8f-4410-daac-21eb05cf19a1"
      },
      "execution_count": 9,
      "outputs": [
        {
          "output_type": "stream",
          "name": "stdout",
          "text": [
            "Requirement already satisfied: arxiv in /usr/local/lib/python3.10/dist-packages (2.1.3)\n",
            "Requirement already satisfied: feedparser~=6.0.10 in /usr/local/lib/python3.10/dist-packages (from arxiv) (6.0.11)\n",
            "Requirement already satisfied: requests~=2.32.0 in /usr/local/lib/python3.10/dist-packages (from arxiv) (2.32.3)\n",
            "Requirement already satisfied: sgmllib3k in /usr/local/lib/python3.10/dist-packages (from feedparser~=6.0.10->arxiv) (1.0.0)\n",
            "Requirement already satisfied: charset-normalizer<4,>=2 in /usr/local/lib/python3.10/dist-packages (from requests~=2.32.0->arxiv) (3.4.0)\n",
            "Requirement already satisfied: idna<4,>=2.5 in /usr/local/lib/python3.10/dist-packages (from requests~=2.32.0->arxiv) (3.10)\n",
            "Requirement already satisfied: urllib3<3,>=1.21.1 in /usr/local/lib/python3.10/dist-packages (from requests~=2.32.0->arxiv) (2.2.3)\n",
            "Requirement already satisfied: certifi>=2017.4.17 in /usr/local/lib/python3.10/dist-packages (from requests~=2.32.0->arxiv) (2024.8.30)\n",
            "Requirement already satisfied: fitz in /usr/local/lib/python3.10/dist-packages (0.0.1.dev2)\n",
            "Requirement already satisfied: configobj in /usr/local/lib/python3.10/dist-packages (from fitz) (5.0.9)\n",
            "Requirement already satisfied: configparser in /usr/local/lib/python3.10/dist-packages (from fitz) (7.1.0)\n",
            "Requirement already satisfied: httplib2 in /usr/local/lib/python3.10/dist-packages (from fitz) (0.22.0)\n",
            "Requirement already satisfied: nibabel in /usr/local/lib/python3.10/dist-packages (from fitz) (5.3.2)\n",
            "Requirement already satisfied: nipype in /usr/local/lib/python3.10/dist-packages (from fitz) (1.9.1)\n",
            "Requirement already satisfied: numpy in /usr/local/lib/python3.10/dist-packages (from fitz) (1.26.4)\n",
            "Requirement already satisfied: pandas in /usr/local/lib/python3.10/dist-packages (from fitz) (2.2.2)\n",
            "Requirement already satisfied: pyxnat in /usr/local/lib/python3.10/dist-packages (from fitz) (1.6.2)\n",
            "Requirement already satisfied: scipy in /usr/local/lib/python3.10/dist-packages (from fitz) (1.13.1)\n",
            "Requirement already satisfied: pyparsing!=3.0.0,!=3.0.1,!=3.0.2,!=3.0.3,<4,>=2.4.2 in /usr/local/lib/python3.10/dist-packages (from httplib2->fitz) (3.2.0)\n",
            "Requirement already satisfied: importlib-resources>=5.12 in /usr/local/lib/python3.10/dist-packages (from nibabel->fitz) (6.4.5)\n",
            "Requirement already satisfied: packaging>=20 in /usr/local/lib/python3.10/dist-packages (from nibabel->fitz) (24.2)\n",
            "Requirement already satisfied: typing-extensions>=4.6 in /usr/local/lib/python3.10/dist-packages (from nibabel->fitz) (4.12.2)\n",
            "Requirement already satisfied: click>=6.6.0 in /usr/local/lib/python3.10/dist-packages (from nipype->fitz) (8.1.7)\n",
            "Requirement already satisfied: networkx>=2.5 in /usr/local/lib/python3.10/dist-packages (from nipype->fitz) (3.4.2)\n",
            "Requirement already satisfied: prov>=1.5.2 in /usr/local/lib/python3.10/dist-packages (from nipype->fitz) (2.0.1)\n",
            "Requirement already satisfied: pydot>=1.2.3 in /usr/local/lib/python3.10/dist-packages (from nipype->fitz) (3.0.2)\n",
            "Requirement already satisfied: python-dateutil>=2.2 in /usr/local/lib/python3.10/dist-packages (from nipype->fitz) (2.8.2)\n",
            "Requirement already satisfied: rdflib>=5.0.0 in /usr/local/lib/python3.10/dist-packages (from nipype->fitz) (6.3.2)\n",
            "Requirement already satisfied: simplejson>=3.8.0 in /usr/local/lib/python3.10/dist-packages (from nipype->fitz) (3.19.3)\n",
            "Requirement already satisfied: traits>=6.2 in /usr/local/lib/python3.10/dist-packages (from nipype->fitz) (6.4.3)\n",
            "Requirement already satisfied: filelock>=3.0.0 in /usr/local/lib/python3.10/dist-packages (from nipype->fitz) (3.16.1)\n",
            "Requirement already satisfied: acres in /usr/local/lib/python3.10/dist-packages (from nipype->fitz) (0.1.0)\n",
            "Requirement already satisfied: etelemetry>=0.3.1 in /usr/local/lib/python3.10/dist-packages (from nipype->fitz) (0.3.1)\n",
            "Requirement already satisfied: looseversion!=1.2 in /usr/local/lib/python3.10/dist-packages (from nipype->fitz) (1.3.0)\n",
            "Requirement already satisfied: puremagic in /usr/local/lib/python3.10/dist-packages (from nipype->fitz) (1.28)\n",
            "Requirement already satisfied: pytz>=2020.1 in /usr/local/lib/python3.10/dist-packages (from pandas->fitz) (2024.2)\n",
            "Requirement already satisfied: tzdata>=2022.7 in /usr/local/lib/python3.10/dist-packages (from pandas->fitz) (2024.2)\n",
            "Requirement already satisfied: lxml>=4.3 in /usr/local/lib/python3.10/dist-packages (from pyxnat->fitz) (5.3.0)\n",
            "Requirement already satisfied: requests>=2.20 in /usr/local/lib/python3.10/dist-packages (from pyxnat->fitz) (2.32.3)\n",
            "Requirement already satisfied: pathlib>=1.0 in /usr/local/lib/python3.10/dist-packages (from pyxnat->fitz) (1.0.1)\n",
            "Requirement already satisfied: ci-info>=0.2 in /usr/local/lib/python3.10/dist-packages (from etelemetry>=0.3.1->nipype->fitz) (0.3.0)\n",
            "Requirement already satisfied: six>=1.5 in /usr/local/lib/python3.10/dist-packages (from python-dateutil>=2.2->nipype->fitz) (1.16.0)\n",
            "Requirement already satisfied: isodate<0.7.0,>=0.6.0 in /usr/local/lib/python3.10/dist-packages (from rdflib>=5.0.0->nipype->fitz) (0.6.1)\n",
            "Requirement already satisfied: charset-normalizer<4,>=2 in /usr/local/lib/python3.10/dist-packages (from requests>=2.20->pyxnat->fitz) (3.4.0)\n",
            "Requirement already satisfied: idna<4,>=2.5 in /usr/local/lib/python3.10/dist-packages (from requests>=2.20->pyxnat->fitz) (3.10)\n",
            "Requirement already satisfied: urllib3<3,>=1.21.1 in /usr/local/lib/python3.10/dist-packages (from requests>=2.20->pyxnat->fitz) (2.2.3)\n",
            "Requirement already satisfied: certifi>=2017.4.17 in /usr/local/lib/python3.10/dist-packages (from requests>=2.20->pyxnat->fitz) (2024.8.30)\n",
            "Collecting pymupdf\n",
            "  Downloading PyMuPDF-1.24.14-cp39-abi3-manylinux2014_x86_64.manylinux_2_17_x86_64.whl.metadata (3.4 kB)\n",
            "Downloading PyMuPDF-1.24.14-cp39-abi3-manylinux2014_x86_64.manylinux_2_17_x86_64.whl (19.8 MB)\n",
            "\u001b[2K   \u001b[90m━━━━━━━━━━━━━━━━━━━━━━━━━━━━━━━━━━━━━━━━\u001b[0m \u001b[32m19.8/19.8 MB\u001b[0m \u001b[31m73.0 MB/s\u001b[0m eta \u001b[36m0:00:00\u001b[0m\n",
            "\u001b[?25hInstalling collected packages: pymupdf\n",
            "Successfully installed pymupdf-1.24.14\n"
          ]
        }
      ]
    },
    {
      "cell_type": "code",
      "execution_count": 10,
      "metadata": {
        "id": "g0NxnMc3IsMF"
      },
      "outputs": [],
      "source": [
        "import arxiv\n",
        "import os\n",
        "import fitz\n",
        "import json"
      ]
    },
    {
      "cell_type": "code",
      "source": [
        "# connect to drive\n",
        "from google.colab import drive\n",
        "drive.mount('/content/drive')\n"
      ],
      "metadata": {
        "colab": {
          "base_uri": "https://localhost:8080/"
        },
        "id": "pV9SfZe0AEmY",
        "outputId": "8b60a0b6-a513-4222-f641-0cd0d43fb674"
      },
      "execution_count": 5,
      "outputs": [
        {
          "output_type": "stream",
          "name": "stdout",
          "text": [
            "Mounted at /content/drive\n"
          ]
        }
      ]
    },
    {
      "cell_type": "markdown",
      "metadata": {
        "id": "i3jmvbHrIsMM"
      },
      "source": [
        "## Download arXiv dataset regarding Model II regression"
      ]
    },
    {
      "cell_type": "code",
      "source": [
        "import os\n",
        "import requests\n",
        "import feedparser\n",
        "\n",
        "# Define the exact phrase to search\n",
        "exact_phrase = \"Errors-in-variables model\"\n",
        "output_directory = \"/content/drive/MyDrive/deeplearning_project/arxiv_stat_pdfs\"  # Directory to save PDFs\n",
        "\n",
        "# Construct the query URL for exact matches\n",
        "query_url = f\"http://export.arxiv.org/api/query?search_query=all:%22errors+in+variables+model%22&max_results=50\"\n",
        "\n",
        "# Create the output directory if it doesn't exist\n",
        "os.makedirs(output_directory, exist_ok=True)\n",
        "\n",
        "# Fetch results from the arXiv API\n",
        "print(f\"Searching arXiv for: {exact_phrase}\")\n",
        "response = requests.get(query_url)\n",
        "if response.status_code != 200:\n",
        "    print(f\"Failed to fetch results: {response.status_code}\")\n",
        "    exit()\n",
        "\n",
        "# Parse the results\n",
        "feed = feedparser.parse(response.content)\n",
        "entries = feed.entries\n",
        "\n",
        "print(f\"Found {len(entries)} papers matching the exact phrase.\")\n",
        "\n",
        "# Download PDFs\n",
        "for entry in entries:\n",
        "    try:\n",
        "        title = entry.title\n",
        "        pdf_url = entry.links[1].href  # The second link is typically the PDF\n",
        "        pdf_path = os.path.join(output_directory, f\"{entry.id.split('/')[-1]}.pdf\")\n",
        "        pdf_response = requests.get(pdf_url)\n",
        "        with open(pdf_path, 'wb') as pdf_file:\n",
        "            pdf_file.write(pdf_response.content)\n",
        "\n",
        "    except Exception as e:\n",
        "        print(f\"Failed to download {title}: {e}\")\n",
        "\n",
        "# Print the number of PDFs downloaded\n",
        "print(\"Finished downloading PDFs\")\n"
      ],
      "metadata": {
        "id": "XHD4nnmUi9qI",
        "outputId": "7cafdc49-c1f2-4b94-e8ca-f846f3f5bb3f",
        "colab": {
          "base_uri": "https://localhost:8080/"
        }
      },
      "execution_count": 34,
      "outputs": [
        {
          "output_type": "stream",
          "name": "stdout",
          "text": [
            "Searching arXiv for: Errors-in-variables model\n",
            "Found 45 papers matching the exact phrase.\n",
            "Finished downloading PDFs\n"
          ]
        }
      ]
    },
    {
      "cell_type": "markdown",
      "metadata": {
        "id": "XGToegbkIsMX"
      },
      "source": [
        "## Extract Text from PDFs"
      ]
    },
    {
      "cell_type": "markdown",
      "metadata": {
        "id": "pcBatJbnIsMY"
      },
      "source": [
        "extract text from the pdfs - should this be saved as a json or txt?\n",
        "also run on hpc this is a lot"
      ]
    },
    {
      "cell_type": "code",
      "execution_count": 35,
      "metadata": {
        "id": "z8n7AdeRIsMY",
        "outputId": "e0143e14-f379-4f86-e283-6b3df1149a5f",
        "colab": {
          "base_uri": "https://localhost:8080/"
        }
      },
      "outputs": [
        {
          "output_type": "stream",
          "name": "stdout",
          "text": [
            "Error processing 0903.3146v2.pdf: Failed to open file '/content/drive/MyDrive/deeplearning_project/arxiv_stat_pdfs/0903.3146v2.pdf'.\n",
            "Error processing 2105.09095v3.pdf: Failed to open file '/content/drive/MyDrive/deeplearning_project/arxiv_stat_pdfs/2105.09095v3.pdf'.\n",
            "Error processing 0812.3612v3.pdf: Failed to open file '/content/drive/MyDrive/deeplearning_project/arxiv_stat_pdfs/0812.3612v3.pdf'.\n",
            "Error processing 1608.05122v3.pdf: Failed to open file '/content/drive/MyDrive/deeplearning_project/arxiv_stat_pdfs/1608.05122v3.pdf'.\n",
            "Error processing 0706.0826v1.pdf: Failed to open file '/content/drive/MyDrive/deeplearning_project/arxiv_stat_pdfs/0706.0826v1.pdf'.\n",
            "Error processing 0709.0871v1.pdf: Failed to open file '/content/drive/MyDrive/deeplearning_project/arxiv_stat_pdfs/0709.0871v1.pdf'.\n",
            "Error processing 1604.01591v2.pdf: Failed to open file '/content/drive/MyDrive/deeplearning_project/arxiv_stat_pdfs/1604.01591v2.pdf'.\n",
            "Error processing 1911.06361v3.pdf: Failed to open file '/content/drive/MyDrive/deeplearning_project/arxiv_stat_pdfs/1911.06361v3.pdf'.\n",
            "Error processing 2006.14818v1.pdf: Failed to open file '/content/drive/MyDrive/deeplearning_project/arxiv_stat_pdfs/2006.14818v1.pdf'.\n",
            "Error processing 1008.2996v1.pdf: Failed to open file '/content/drive/MyDrive/deeplearning_project/arxiv_stat_pdfs/1008.2996v1.pdf'.\n",
            "Error processing 1806.06974v1.pdf: Failed to open file '/content/drive/MyDrive/deeplearning_project/arxiv_stat_pdfs/1806.06974v1.pdf'.\n",
            "Error processing 1609.08945v3.pdf: Failed to open file '/content/drive/MyDrive/deeplearning_project/arxiv_stat_pdfs/1609.08945v3.pdf'.\n",
            "Processed 33 papers\n"
          ]
        }
      ],
      "source": [
        "# Function to extract text from a PDF file\n",
        "def extract_text_from_pdf(pdf_path):\n",
        "    # Open the PDF file\n",
        "    doc = fitz.open(pdf_path)\n",
        "    text = \"\"\n",
        "\n",
        "    # Extract text from each page\n",
        "    for page_num in range(doc.page_count):\n",
        "        page = doc.load_page(page_num)\n",
        "        text += page.get_text()\n",
        "\n",
        "    return text\n",
        "\n",
        "# Example usage\n",
        "# pdf_path = \"arxiv_pdf/2101.00001.pdf\"  # Replace with your downloaded PDF\n",
        "# paper_text = extract_text_from_pdf(pdf_path)\n",
        "# print(paper_text[:1000])  # Print the first 1000 characters of the extracted text\n",
        "\n",
        "# extract text from all pdfs and save each in a json file\n",
        "pdf_dir = \"/content/drive/MyDrive/deeplearning_project/arxiv_stat_pdfs\"\n",
        "text_dir = \"/content/drive/MyDrive/deeplearning_project/arxiv_stat_text\"\n",
        "os.makedirs(text_dir, exist_ok=True)\n",
        "\n",
        "text_count = 0\n",
        "\n",
        "for paper in os.listdir(pdf_dir):\n",
        "    try:\n",
        "        arxiv_id = paper\n",
        "        pdf_path = os.path.join(pdf_dir, f\"{arxiv_id}\")\n",
        "        text = extract_text_from_pdf(pdf_path)\n",
        "        text_path = os.path.join(text_dir, f\"{arxiv_id}.json\")\n",
        "        with open(text_path, \"w\") as f:\n",
        "            json.dump({\"text\": text}, f)\n",
        "        text_count += 1\n",
        "    except Exception as e:\n",
        "        print(f\"Error processing {arxiv_id}: {e}\")\n",
        "print(f\"Processed {text_count} papers\")"
      ]
    }
  ],
  "metadata": {
    "kernelspec": {
      "display_name": "deep",
      "language": "python",
      "name": "python3"
    },
    "language_info": {
      "codemirror_mode": {
        "name": "ipython",
        "version": 3
      },
      "file_extension": ".py",
      "mimetype": "text/x-python",
      "name": "python",
      "nbconvert_exporter": "python",
      "pygments_lexer": "ipython3",
      "version": "3.11.10"
    },
    "colab": {
      "provenance": [],
      "collapsed_sections": [
        "w8fsvKyDIsMR"
      ]
    }
  },
  "nbformat": 4,
  "nbformat_minor": 0
}