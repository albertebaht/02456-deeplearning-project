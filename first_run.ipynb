{
 "cells": [
  {
   "cell_type": "code",
   "execution_count": 11,
   "metadata": {},
   "outputs": [],
   "source": [
    "from dotenv import load_dotenv\n",
    "import os\n",
    "\n",
    "import pandas as pd\n",
    "\n",
    "# Common data processing\n",
    "import json\n",
    "import textwrap\n",
    "\n",
    "# Langchain\n",
    "from langchain_community.graphs import Neo4jGraph\n",
    "from langchain_community.vectorstores import Neo4jVector\n",
    "from langchain_openai import OpenAIEmbeddings\n",
    "from langchain.text_splitter import RecursiveCharacterTextSplitter\n",
    "from langchain.chains import RetrievalQAWithSourcesChain\n",
    "from langchain_openai import ChatOpenAI\n",
    "from langchain_experimental.graph_transformers import LLMGraphTransformer\n",
    "from neo4j import GraphDatabase\n",
    "\n",
    "# Warning control\n",
    "import warnings\n",
    "warnings.filterwarnings(\"ignore\")"
   ]
  },
  {
   "cell_type": "code",
   "execution_count": 4,
   "metadata": {},
   "outputs": [],
   "source": [
    "# Load from environment\n",
    "load_dotenv('.env', override=True)\n",
    "NEO4J_URI = os.getenv('NEO4J_URI')\n",
    "NEO4J_USERNAME = os.getenv('NEO4J_USERNAME')\n",
    "NEO4J_PASSWORD = os.getenv('NEO4J_PASSWORD')\n",
    "NEO4J_DATABASE = os.getenv('NEO4J_DATABASE') or 'neo4j'\n",
    "NEO4J_URL = os.getenv('NEO4J_URL')\n",
    "OPENAI_API_KEY = os.getenv('OPENAI_API_KEY')\n",
    "# OPENAI_API_KEY = os.getenv('OPENAI_API_KEY')\n",
    "# # Note the code below is unique to this course environment, and not a \n",
    "# # standard part of Neo4j's integration with OpenAI. Remove if running \n",
    "# # in your own environment.\n",
    "# OPENAI_ENDPOINT = os.getenv('OPENAI_BASE_URL') + '/embeddings'\n",
    "\n",
    "# Global constants\n",
    "VECTOR_INDEX_NAME = 'form_10k_chunks'\n",
    "VECTOR_NODE_LABEL = 'Chunk'\n",
    "VECTOR_SOURCE_PROPERTY = 'text'\n",
    "VECTOR_EMBEDDING_PROPERTY = 'textEmbedding'"
   ]
  },
  {
   "cell_type": "code",
   "execution_count": 5,
   "metadata": {},
   "outputs": [],
   "source": [
    "AUTH = (os.getenv('NEO4J_USERNAME'), os.getenv('NEO4J_PASSWORD'))\n",
    "with GraphDatabase.driver(NEO4J_URI, auth = AUTH) as driver:\n",
    "    driver.verify_connectivity()\n",
    "    "
   ]
  },
  {
   "cell_type": "code",
   "execution_count": 6,
   "metadata": {},
   "outputs": [],
   "source": [
    "graph = Neo4jGraph(url=NEO4J_URI, \n",
    "                   username=NEO4J_USERNAME, \n",
    "                   password=NEO4J_PASSWORD,\n",
    "                   refresh_schema=False)\n",
    "\n",
    "def clean_graph():\n",
    "    query = \"\"\"\n",
    "    MATCH (n)\n",
    "    DETACH DELETE n\n",
    "    \"\"\"\n",
    "    graph.query(query)"
   ]
  },
  {
   "cell_type": "code",
   "execution_count": 7,
   "metadata": {},
   "outputs": [],
   "source": [
    "from langchain_core.documents import Document\n",
    "\n",
    "text = \"\"\"\n",
    "Marie Curie, 7 November 1867 – 4 July 1934, was a Polish and naturalised-French physicist and chemist who conducted pioneering research on radioactivity.\n",
    "\"\"\" \n",
    "# She was the first woman to win a Nobel Prize, the first person to win a Nobel Prize twice, and the only person to win a Nobel Prize in two scientific fields.\n",
    "# Her husband, Pierre Curie, was a co-winner of her first Nobel Prize, making them the first-ever married couple to win the Nobel Prize and launching the Curie family legacy of five Nobel Prizes.\n",
    "# She was, in 1906, the first woman to become a professor at the University of Paris.\n",
    "# Also, Robin Williams!\n",
    "# \"\"\"\n",
    "documents = [Document(page_content=text)]"
   ]
  },
  {
   "cell_type": "code",
   "execution_count": 8,
   "metadata": {},
   "outputs": [],
   "source": [
    "from langchain_openai import ChatOpenAI\n",
    "import getpass\n",
    "import os\n",
    "\n",
    "# os.environ[\"OPENAI_API_KEY\"] = getpass.getpass(\"OpenAI api key\")\n",
    "\n",
    "llm = ChatOpenAI(model='gpt-4o-mini', max_tokens=50,api_key=OPENAI_API_KEY )"
   ]
  },
  {
   "cell_type": "code",
   "execution_count": 9,
   "metadata": {},
   "outputs": [],
   "source": [
    "\n",
    "\n",
    "no_schema = LLMGraphTransformer(llm=llm)\n",
    "no_schema_prompt = LLMGraphTransformer(llm=llm, ignore_tool_usage=True)"
   ]
  },
  {
   "cell_type": "code",
   "execution_count": 10,
   "metadata": {},
   "outputs": [
    {
     "name": "stdout",
     "output_type": "stream",
     "text": [
      "[GraphDocument(nodes=[], relationships=[], source=Document(metadata={}, page_content='\\nMarie Curie, 7 November 1867 – 4 July 1934, was a Polish and naturalised-French physicist and chemist who conducted pioneering research on radioactivity.\\n'))]\n"
     ]
    }
   ],
   "source": [
    "clean_graph()\n",
    "\n",
    "data = await no_schema_prompt.aconvert_to_graph_documents(documents)\n",
    "print(data)\n",
    "graph.add_graph_documents(data)"
   ]
  },
  {
   "cell_type": "markdown",
   "metadata": {},
   "source": [
    "# this be kinda working"
   ]
  },
  {
   "cell_type": "code",
   "execution_count": 18,
   "metadata": {},
   "outputs": [],
   "source": [
    "chunk = 1000\n",
    "data = pd.read_json('data/test/arxiv-metadata-oai-snapshot.json', lines=True, chunksize=chunk)\n",
    "\n",
    "for chunk in data:\n",
    "    data_crop = chunk\n",
    "    break"
   ]
  },
  {
   "cell_type": "code",
   "execution_count": 53,
   "metadata": {},
   "outputs": [],
   "source": [
    "documents = [Document(page_content=data_crop['abstract'][i], metadata={\"authors\":data_crop[\"authors\"][i], \"category\":data_crop[\"categories\"][i]}) for i in range(10)]"
   ]
  },
  {
   "cell_type": "code",
   "execution_count": 49,
   "metadata": {},
   "outputs": [
    {
     "name": "stdout",
     "output_type": "stream",
     "text": [
      "[GraphDocument(nodes=[Node(id='John Doe', type='Person', properties={}), Node(id='Jane Smith', type='Person', properties={}), Node(id='Acme Corporation', type='Organization', properties={})], relationships=[Relationship(source=Node(id='John Doe', type='Person', properties={}), target=Node(id='Jane Smith', type='Person', properties={}), type='COLLEAGUE', properties={}), Relationship(source=Node(id='John Doe', type='Person', properties={}), target=Node(id='Acme Corporation', type='Organization', properties={}), type='EMPLOYEE', properties={}), Relationship(source=Node(id='Jane Smith', type='Person', properties={}), target=Node(id='Acme Corporation', type='Organization', properties={}), type='EMPLOYEE', properties={})], source=Document(metadata={'authors': \"C. Bal\\\\'azs, E. L. Berger, P. M. Nadolsky, C.-P. Yuan\", 'category': 'hep-ph'}, page_content='')), GraphDocument(nodes=[Node(id='John Doe', type='Person', properties={}), Node(id='Jane Smith', type='Person', properties={}), Node(id='Acme Corporation', type='Organization', properties={})], relationships=[Relationship(source=Node(id='John Doe', type='Person', properties={}), target=Node(id='Jane Smith', type='Person', properties={}), type='COLLEAGUE', properties={}), Relationship(source=Node(id='John Doe', type='Person', properties={}), target=Node(id='Acme Corporation', type='Organization', properties={}), type='EMPLOYEE', properties={}), Relationship(source=Node(id='Jane Smith', type='Person', properties={}), target=Node(id='Acme Corporation', type='Organization', properties={}), type='EMPLOYEE', properties={})], source=Document(metadata={'authors': 'Ileana Streinu and Louis Theran', 'category': 'math.CO cs.CG'}, page_content='')), GraphDocument(nodes=[Node(id='John Doe', type='Person', properties={}), Node(id='Jane Smith', type='Person', properties={}), Node(id='Acme Corporation', type='Company', properties={})], relationships=[Relationship(source=Node(id='John Doe', type='Person', properties={}), target=Node(id='Jane Smith', type='Person', properties={}), type='COLLEAGUE', properties={}), Relationship(source=Node(id='John Doe', type='Person', properties={}), target=Node(id='Acme Corporation', type='Company', properties={}), type='EMPLOYEE', properties={}), Relationship(source=Node(id='Jane Smith', type='Person', properties={}), target=Node(id='Acme Corporation', type='Company', properties={}), type='EMPLOYEE', properties={})], source=Document(metadata={'authors': 'Hongjun Pan', 'category': 'physics.gen-ph'}, page_content='')), GraphDocument(nodes=[Node(id='John Doe', type='Person', properties={}), Node(id='Jane Smith', type='Person', properties={}), Node(id='New York City', type='City', properties={}), Node(id='Los Angeles', type='City', properties={})], relationships=[Relationship(source=Node(id='John Doe', type='Person', properties={}), target=Node(id='Jane Smith', type='Person', properties={}), type='MARRIED', properties={}), Relationship(source=Node(id='John Doe', type='Person', properties={}), target=Node(id='New York City', type='City', properties={}), type='BORN', properties={}), Relationship(source=Node(id='Jane Smith', type='Person', properties={}), target=Node(id='Los Angeles', type='City', properties={}), type='BORN', properties={})], source=Document(metadata={'authors': 'David Callan', 'category': 'math.CO'}, page_content='')), GraphDocument(nodes=[Node(id='John Doe', type='Person', properties={}), Node(id='Jane Smith', type='Person', properties={}), Node(id='Acme Corporation', type='Organization', properties={})], relationships=[Relationship(source=Node(id='John Doe', type='Person', properties={}), target=Node(id='Jane Smith', type='Person', properties={}), type='COLLEAGUE', properties={}), Relationship(source=Node(id='John Doe', type='Person', properties={}), target=Node(id='Acme Corporation', type='Organization', properties={}), type='EMPLOYEE', properties={}), Relationship(source=Node(id='Jane Smith', type='Person', properties={}), target=Node(id='Acme Corporation', type='Organization', properties={}), type='EMPLOYEE', properties={})], source=Document(metadata={'authors': 'Wael Abu-Shammala and Alberto Torchinsky', 'category': 'math.CA math.FA'}, page_content='')), GraphDocument(nodes=[Node(id='John Doe', type='Person', properties={}), Node(id='Jane Smith', type='Person', properties={}), Node(id='Acme Corporation', type='Company', properties={}), Node(id='New York', type='City', properties={})], relationships=[Relationship(source=Node(id='John Doe', type='Person', properties={}), target=Node(id='Jane Smith', type='Person', properties={}), type='COLLEAGUE', properties={}), Relationship(source=Node(id='John Doe', type='Person', properties={}), target=Node(id='Acme Corporation', type='Company', properties={}), type='EMPLOYEE', properties={}), Relationship(source=Node(id='Jane Smith', type='Person', properties={}), target=Node(id='Acme Corporation', type='Company', properties={}), type='EMPLOYEE', properties={}), Relationship(source=Node(id='Acme Corporation', type='Company', properties={}), target=Node(id='New York', type='City', properties={}), type='LOCATED_IN', properties={})], source=Document(metadata={'authors': 'Y. H. Pong and C. K. Law', 'category': 'cond-mat.mes-hall'}, page_content='')), GraphDocument(nodes=[Node(id='John Doe', type='Person', properties={}), Node(id='Jane Smith', type='Person', properties={}), Node(id='Acme Corporation', type='Company', properties={})], relationships=[Relationship(source=Node(id='John Doe', type='Person', properties={}), target=Node(id='Jane Smith', type='Person', properties={}), type='COLLEAGUE', properties={}), Relationship(source=Node(id='John Doe', type='Person', properties={}), target=Node(id='Acme Corporation', type='Company', properties={}), type='EMPLOYEE', properties={}), Relationship(source=Node(id='Jane Smith', type='Person', properties={}), target=Node(id='Acme Corporation', type='Company', properties={}), type='EMPLOYEE', properties={})], source=Document(metadata={'authors': 'Alejandro Corichi, Tatjana Vukasinac and Jose A. Zapata', 'category': 'gr-qc'}, page_content='')), GraphDocument(nodes=[Node(id='John Doe', type='Person', properties={})], relationships=[], source=Document(metadata={'authors': 'Damian C. Swift', 'category': 'cond-mat.mtrl-sci'}, page_content='')), GraphDocument(nodes=[Node(id='John Doe', type='Person', properties={}), Node(id='Jane Smith', type='Person', properties={}), Node(id='Acme Corporation', type='Organization', properties={}), Node(id='University Of Example', type='Organization', properties={})], relationships=[Relationship(source=Node(id='John Doe', type='Person', properties={}), target=Node(id='Jane Smith', type='Person', properties={}), type='MARRIED', properties={}), Relationship(source=Node(id='John Doe', type='Person', properties={}), target=Node(id='Acme Corporation', type='Organization', properties={}), type='EMPLOYEE', properties={}), Relationship(source=Node(id='Jane Smith', type='Person', properties={}), target=Node(id='University Of Example', type='Organization', properties={}), type='EMPLOYEE', properties={})], source=Document(metadata={'authors': 'Paul Harvey, Bruno Merin, Tracy L. Huard, Luisa M. Rebull, Nicholas\\n  Chapman, Neal J. Evans II, Philip C. Myers', 'category': 'astro-ph'}, page_content='')), GraphDocument(nodes=[Node(id='John Doe', type='Person', properties={}), Node(id='Jane Smith', type='Person', properties={}), Node(id='Acme Corporation', type='Company', properties={})], relationships=[Relationship(source=Node(id='John Doe', type='Person', properties={}), target=Node(id='Jane Smith', type='Person', properties={}), type='COLLEAGUE', properties={}), Relationship(source=Node(id='John Doe', type='Person', properties={}), target=Node(id='Acme Corporation', type='Company', properties={}), type='EMPLOYEE', properties={}), Relationship(source=Node(id='Jane Smith', type='Person', properties={}), target=Node(id='Acme Corporation', type='Company', properties={}), type='EMPLOYEE', properties={})], source=Document(metadata={'authors': 'Sergei Ovchinnikov', 'category': 'math.CO'}, page_content=''))]\n"
     ]
    }
   ],
   "source": [
    "clean_graph()\n",
    "allowed_nodes = [\"authors\", \"category\"]\n",
    "allowed_relations = [(\"authors\", \"FIELD\", \"category\")]\n",
    "\n",
    "llm = ChatOpenAI(temperature=0, model_name=\"gpt-4-turbo\")\n",
    "llm_transformer = LLMGraphTransformer(llm=llm, strict_mode = True)\n",
    "\n",
    "data = await llm_transformer.aconvert_to_graph_documents(documents)\n",
    "print(data)\n",
    "graph.add_graph_documents(data)"
   ]
  }
 ],
 "metadata": {
  "kernelspec": {
   "display_name": "deep",
   "language": "python",
   "name": "python3"
  },
  "language_info": {
   "codemirror_mode": {
    "name": "ipython",
    "version": 3
   },
   "file_extension": ".py",
   "mimetype": "text/x-python",
   "name": "python",
   "nbconvert_exporter": "python",
   "pygments_lexer": "ipython3",
   "version": "3.11.10"
  }
 },
 "nbformat": 4,
 "nbformat_minor": 2
}
