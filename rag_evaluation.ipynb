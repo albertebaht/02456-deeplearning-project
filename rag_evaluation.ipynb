{
 "cells": [
  {
   "cell_type": "markdown",
   "metadata": {},
   "source": [
    "# Constructing RAG application with knowledge graph"
   ]
  },
  {
   "cell_type": "code",
   "execution_count": 1,
   "metadata": {},
   "outputs": [],
   "source": [
    "import os\n",
    "from langchain.graphs import Neo4jGraph\n",
    "from langchain_openai import ChatOpenAI\n",
    "from langchain.chains import GraphCypherQAChain\n",
    "from langchain_community.graphs import Neo4jGraph\n",
    "from langchain_openai import ChatOpenAI\n",
    "from langchain_core.prompts.prompt import PromptTemplate"
   ]
  },
  {
   "cell_type": "code",
   "execution_count": 2,
   "metadata": {},
   "outputs": [],
   "source": [
    "os.environ[\"NEO4J_URI\"] = os.getenv('NEO4J_URI')\n",
    "os.environ[\"NEO4J_USERNAME\"] = os.getenv('NEO4J_USERNAME')\n",
    "os.environ[\"NEO4J_PASSWORD\"] = os.getenv('NEO4J_PASSWORD')\n",
    "os.environ[\"OPENAI_API_KEY\"] =  os.getenv('OPENAI_API_KEY')\n",
    "NEO4j_URI = os.getenv('NEO4J_URI')\n",
    "NEO4j_USERNAME = os.getenv('NEO4J_USERNAME')\n",
    "NEO4j_PASSWORD = os.getenv('NEO4J_PASSWORD')\n",
    "OPENAI_API_KEY = os.getenv('OPENAI_API_KEY')\n",
    "\n",
    "graph = Neo4jGraph(url = NEO4j_URI, username=NEO4j_USERNAME, password = NEO4j_PASSWORD, refresh_schema=False)\n",
    "\n"
   ]
  },
  {
   "cell_type": "code",
   "execution_count": 3,
   "metadata": {},
   "outputs": [],
   "source": [
    "CYPHER_GENERATION_TEMPLATE = \"\"\"Task:Generate Cypher statement to query a graph database.\n",
    "Instructions:\n",
    "Use only the provided relationship types and properties in the schema.\n",
    "Do not use the embedding property for KeyElements\n",
    "Only look for terms in KeyElements nodes\n",
    "Do not use any other relationship types or properties that are not provided.\n",
    "Schema:\n",
    "{schema}\n",
    "Note: Respond only with the Cypher query.\n",
    "\n",
    "The question is:\n",
    "{question} \n",
    "\n",
    "Important: In the generated Cypher query, look for terms in keyelements when using WHERE. \n",
    "In the generated Cypher query, the RETURN statement must explicitly include the property values used in the query's filtering condition but never the embedding property, alongside the main information requested from the original question. \n",
    "Do not return anything related to chunks node types. When using atomic facts the text property is important.\n",
    "\n",
    "\"\"\"\n",
    "CYPHER_GENERATION_PROMPT = PromptTemplate(\n",
    "    input_variables=[\"schema\", \"question\"], template=CYPHER_GENERATION_TEMPLATE\n",
    ")\n"
   ]
  },
  {
   "cell_type": "code",
   "execution_count": 4,
   "metadata": {},
   "outputs": [],
   "source": [
    "graph.refresh_schema()\n",
    "\n",
    "cypher_chain = GraphCypherQAChain.from_llm(\n",
    "    cypher_prompt = CYPHER_GENERATION_PROMPT,\n",
    "    cypher_llm = ChatOpenAI(temperature=0, model_name=\"gpt-4o-mini\"),\n",
    "    qa_llm = ChatOpenAI(temperature=0,model_name=\"gpt-4o-mini\"), graph=graph, verbose=True, allow_dangerous_requests=True\n",
    ")"
   ]
  },
  {
   "cell_type": "code",
   "execution_count": 5,
   "metadata": {},
   "outputs": [
    {
     "name": "stdout",
     "output_type": "stream",
     "text": [
      "\n",
      "\n",
      "\u001b[1m> Entering new GraphCypherQAChain chain...\u001b[0m\n",
      "Generated Cypher:\n",
      "\u001b[32;1m\u001b[1;3mcypher\n",
      "MATCH (d:Document)-[:HAS_CHUNK]->(:Chunk)-[:HAS_ATOMIC_FACT]->(:AtomicFact)-[:HAS_KEY_ELEMENT]->(k:KeyElement)\n",
      "WITH d, COUNT(DISTINCT k.id) AS connections\n",
      "RETURN d.id, d, connections\n",
      "ORDER BY connections DESC\n",
      "LIMIT 1\n",
      "\u001b[0m\n",
      "Full Context:\n",
      "\u001b[32;1m\u001b[1;3m[{'d.id': '1611.04701v2.pdf.json', 'd': {'id': '1611.04701v2.pdf.json'}, 'connections': 2183}]\u001b[0m\n",
      "\n",
      "\u001b[1m> Finished chain.\u001b[0m\n"
     ]
    },
    {
     "data": {
      "text/plain": [
       "{'query': 'Which document has most connections to other documents?',\n",
       " 'result': 'The document with the most connections to other documents is 1611.04701v2.pdf.json, which has 2183 connections.'}"
      ]
     },
     "execution_count": 5,
     "metadata": {},
     "output_type": "execute_result"
    }
   ],
   "source": [
    "cypher_chain.invoke(\n",
    "    {\"query\": \"Which document has most connections to other documents?\"}\n",
    ")"
   ]
  },
  {
   "cell_type": "code",
   "execution_count": 6,
   "metadata": {},
   "outputs": [
    {
     "name": "stdout",
     "output_type": "stream",
     "text": [
      "\n",
      "\n",
      "\u001b[1m> Entering new GraphCypherQAChain chain...\u001b[0m\n",
      "Generated Cypher:\n",
      "\u001b[32;1m\u001b[1;3mcypher\n",
      "MATCH (d:Document)-[:HAS_CHUNK]->(c:Chunk)-[:HAS_ATOMIC_FACT]->(af:AtomicFact)-[:HAS_KEY_ELEMENT]->(ke:KeyElement)\n",
      "WHERE ke.id CONTAINS 'Theorem'\n",
      "RETURN d.id AS documentId, d AS document, af.text AS atomicFactText, ke.id AS keyElementId\n",
      "\u001b[0m\n",
      "Full Context:\n",
      "\u001b[32;1m\u001b[1;3m[{'documentId': '2201.01879v3.pdf.json', 'document': {'id': '2201.01879v3.pdf.json'}, 'atomicFactText': 'Equation (A.32) states that [ζ(1 − π) + ωπ] = 0.', 'keyElementId': 'Central Limit Theorem (CLT)'}, {'documentId': '2201.01879v3.pdf.json', 'document': {'id': '2201.01879v3.pdf.json'}, 'atomicFactText': 'By the Central Limit Theorem (CLT), Equation (A.34) shows that (1/√n)Σ(π̂i(mi − lπ̂i)) converges to N(0, βmωπ(βm − 2l) + E[π̂i](1 + l²)).', 'keyElementId': 'Central Limit Theorem (CLT)'}, {'documentId': '2209.01679v3.pdf.json', 'document': {'id': '2209.01679v3.pdf.json'}, 'atomicFactText': 'The study focuses on hyperplanar moments of inertia.', 'keyElementId': 'Huygens-Steiner Theorem'}, {'documentId': '2209.01679v3.pdf.json', 'document': {'id': '2209.01679v3.pdf.json'}, 'atomicFactText': 'A generalization of the Huygens-Steiner Theorem for hyperplanar moments of inertia states that Jπ = Jπ0 + md^2, where π0 contains the center of masses.', 'keyElementId': 'Huygens-Steiner Theorem'}, {'documentId': '2209.01679v3.pdf.json', 'document': {'id': '2209.01679v3.pdf.json'}, 'atomicFactText': 'The equations J2 = Jk + ma2 and Jk-1 = Jk + ma2k-1 - ma2k describe relationships in the context of inertia.', 'keyElementId': 'Huygens-Steiner Theorem'}, {'documentId': '2209.01679v3.pdf.json', 'document': {'id': '2209.01679v3.pdf.json'}, 'atomicFactText': 'The hyperplane that minimizes the moment of inertia among the hyperplanes containing point P is determined using the Huygens-Steiner theorem.', 'keyElementId': 'Huygens-Steiner Theorem'}, {'documentId': '2209.01679v3.pdf.json', 'document': {'id': '2209.01679v3.pdf.json'}, 'atomicFactText': 'The operator of inertia for the point O defines the axial moment of inertia Iwν for the axis u in direction w.', 'keyElementId': 'Huygens-Steiner Theorem'}, {'documentId': '2209.01679v3.pdf.json', 'document': {'id': '2209.01679v3.pdf.json'}, 'atomicFactText': 'The Lagrange multiplier is denoted by µ in the context of finding the directional line of regression.', 'keyElementId': 'Huygens-Steiner Theorem'}, {'documentId': '2209.01679v3.pdf.json', 'document': {'id': '2209.01679v3.pdf.json'}, 'atomicFactText': 'The condition for the vectors ICu and w0 to be collinear is given by the equation ˆuw = I−1C w0.', 'keyElementId': 'Huygens-Steiner Theorem'}, {'documentId': '2209.01679v3.pdf.json', 'document': {'id': '2209.01679v3.pdf.json'}, 'atomicFactText': 'The Huygens-Steiner theorem states that Jw_π = Jw_π + m D2.', 'keyElementId': 'Huygens-Steiner Theorem'}]\u001b[0m\n",
      "\n",
      "\u001b[1m> Finished chain.\u001b[0m\n",
      "{'query': 'List `Theorem`s in the papers', 'result': 'The theorems mentioned in the papers are the Central Limit Theorem (CLT) and the Huygens-Steiner Theorem.'}\n"
     ]
    }
   ],
   "source": [
    "response = cypher_chain.invoke({\"query\": \"List `Theorem`s in the papers\"})\n",
    "print(response)"
   ]
  },
  {
   "cell_type": "code",
   "execution_count": 7,
   "metadata": {},
   "outputs": [
    {
     "name": "stdout",
     "output_type": "stream",
     "text": [
      "\n",
      "\n",
      "\u001b[1m> Entering new GraphCypherQAChain chain...\u001b[0m\n",
      "Generated Cypher:\n",
      "\u001b[32;1m\u001b[1;3mcypher\n",
      "MATCH (d:Document)-[:HAS_CHUNK]->(c:Chunk)-[:HAS_ATOMIC_FACT]->(af:AtomicFact)-[:HAS_KEY_ELEMENT]->(ke:KeyElement)\n",
      "WHERE ke.id CONTAINS 'OLS' OR ke.id CONTAINS 'Ordinary Least Squares'\n",
      "RETURN af.text, ke.id\n",
      "\u001b[0m\n",
      "Full Context:\n",
      "\u001b[32;1m\u001b[1;3m[{'af.text': 'The norm upper bound of the operator learned via OLS decreases with increasing noise in the independent variable.', 'ke.id': 'operator learned via OLS'}, {'af.text': 'EiV operator learning robustly recovers the Burgers operator in high-noise regimes that defeat OLS operator learning.', 'ke.id': 'OLS operator learning'}, {'af.text': 'The effect of bias in OLS operator learning depends on the regularity of the target operator.', 'ke.id': 'OLS operator learning'}, {'af.text': 'An EiV model for time-evolving PDE discovery shows that OLS and EiV perform similarly in learning the Kuramoto-Sivashinsky evolution operator from corrupted data.', 'ke.id': 'OLS'}, {'af.text': 'The theorem extends the classical result on attenuation bias to the case of a linear operator learned by OLS.', 'ke.id': 'OLS'}, {'af.text': 'Patel, Manickam, Lee, and Gulian discuss linear operators in the context of attenuation bias.', 'ke.id': 'OLS'}, {'af.text': 'The paper assumes the error is spatially and temporally independent and identically distributed (i.i.d.).', 'ke.id': 'OLS'}, {'af.text': 'The results compare OLS and EiV operator regression using both MOR-Physics and DeepONet.', 'ke.id': 'OLS'}, {'af.text': 'The study compares the OLS and EiV models using the MOR-Physics operator parameterization.', 'ke.id': 'OLS'}, {'af.text': 'The learning problem involves recovering the Burgers operator, represented as Lu = ∂xu2.', 'ke.id': 'OLS'}]\u001b[0m\n",
      "\n",
      "\u001b[1m> Finished chain.\u001b[0m\n",
      "{'query': 'Explain the matematical detail of OLS', 'result': 'The mathematical details of Ordinary Least Squares (OLS) involve several key aspects. The norm upper bound of the operator learned via OLS decreases with increasing noise in the independent variable. Additionally, the effect of bias in OLS operator learning depends on the regularity of the target operator. \\n\\nIn high-noise regimes that defeat OLS operator learning, the EiV operator learning robustly recovers the Burgers operator. The learning problem specifically involves recovering the Burgers operator, represented as Lu = ∂xu². \\n\\nFurthermore, a study comparing OLS and EiV models shows that they perform similarly in learning the Kuramoto-Sivashinsky evolution operator from corrupted data. The results also extend the classical result on attenuation bias to the case of a linear operator learned by OLS. \\n\\nLastly, the paper assumes that the error is spatially and temporally independent and identically distributed (i.i.d.), and it discusses linear operators in the context of attenuation bias. The comparison of OLS and EiV operator regression is conducted using both MOR-Physics and DeepONet methodologies.'}\n"
     ]
    }
   ],
   "source": [
    "response = cypher_chain.invoke({\"query\": \"Explain the matematical detail of OLS\"})\n",
    "print(response)"
   ]
  },
  {
   "cell_type": "code",
   "execution_count": 9,
   "metadata": {},
   "outputs": [
    {
     "name": "stdout",
     "output_type": "stream",
     "text": [
      "\n",
      "\n",
      "\u001b[1m> Entering new GraphCypherQAChain chain...\u001b[0m\n",
      "Generated Cypher:\n",
      "\u001b[32;1m\u001b[1;3mcypher\n",
      "MATCH (d:Document)-[:HAS_CHUNK]->(c:Chunk)-[:HAS_ATOMIC_FACT]->(af:AtomicFact)-[:HAS_KEY_ELEMENT]->(ke:KeyElement)\n",
      "WHERE ke.id CONTAINS 'WIDEHIST'\n",
      "RETURN d.id AS documentId, d AS document, af.text AS atomicFactText, ke.id AS keyElementId\n",
      "\u001b[0m\n",
      "Full Context:\n",
      "\u001b[32;1m\u001b[1;3m[{'documentId': '1505.04215v1.pdf.json', 'document': {'id': '1505.04215v1.pdf.json'}, 'atomicFactText': 'The algorithm WIDEHIST divides the interval [-1, 1] into m bins of width h.', 'keyElementId': 'Algorithm WIDEHIST'}]\u001b[0m\n",
      "\n",
      "\u001b[1m> Finished chain.\u001b[0m\n",
      "{'query': 'Which paper uses WIDEHIST algorithm?', 'result': 'The paper with the document ID 1505.04215v1.pdf.json uses the WIDEHIST algorithm.'}\n"
     ]
    }
   ],
   "source": [
    "response = cypher_chain.invoke({\"query\": \"Which paper uses WIDEHIST algorithm?\"})\n",
    "print(response)"
   ]
  }
 ],
 "metadata": {
  "kernelspec": {
   "display_name": ".venv",
   "language": "python",
   "name": "python3"
  },
  "language_info": {
   "codemirror_mode": {
    "name": "ipython",
    "version": 3
   },
   "file_extension": ".py",
   "mimetype": "text/x-python",
   "name": "python",
   "nbconvert_exporter": "python",
   "pygments_lexer": "ipython3",
   "version": "3.11.10"
  }
 },
 "nbformat": 4,
 "nbformat_minor": 2
}
